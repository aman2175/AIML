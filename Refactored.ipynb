{
  "nbformat": 4,
  "nbformat_minor": 0,
  "metadata": {
    "colab": {
      "provenance": []
    },
    "kernelspec": {
      "name": "python3",
      "display_name": "Python 3"
    },
    "language_info": {
      "name": "python"
    }
  },
  "cells": [
    {
      "cell_type": "code",
      "execution_count": 2,
      "metadata": {
        "colab": {
          "base_uri": "https://localhost:8080/"
        },
        "id": "2zabqBAVi42Q",
        "outputId": "c79055d0-320a-4210-981a-7d1c0a54209b"
      },
      "outputs": [
        {
          "output_type": "stream",
          "name": "stdout",
          "text": [
            "Average sepal length: 5.843333333333334\n",
            "Max petal width: 2.5\n",
            "Rows where species is setosa:\n",
            "   sepal_length  sepal_width  petal_length  petal_width species\n",
            "0           5.1          3.5           1.4          0.2  setosa\n",
            "1           4.9          3.0           1.4          0.2  setosa\n",
            "2           4.7          3.2           1.3          0.2  setosa\n",
            "3           4.6          3.1           1.5          0.2  setosa\n",
            "4           5.0          3.6           1.4          0.2  setosa\n"
          ]
        }
      ],
      "source": [
        "import pandas as pd\n",
        "\n",
        "def load_csv(url: str) -> pd.DataFrame:\n",
        "    \"\"\"\n",
        "    Load a CSV from a URL into a DataFrame.\n",
        "    Raises an error if loading fails.\n",
        "    \"\"\"\n",
        "    try:\n",
        "        df = pd.read_csv(url)\n",
        "        return df\n",
        "    except Exception as e:\n",
        "        raise RuntimeError(f\"Error loading CSV: {e}\")\n",
        "\n",
        "def calculate_average(df: pd.DataFrame, column: str) -> float:\n",
        "    \"\"\"\n",
        "    Calculate the average of a specified column.\n",
        "    Raises an error if the column does not exist.\n",
        "    \"\"\"\n",
        "    if column not in df.columns:\n",
        "        raise ValueError(f\"Column '{column}' does not exist in DataFrame\")\n",
        "    return df[column].mean()\n",
        "\n",
        "def find_max(df: pd.DataFrame, column: str) -> float:\n",
        "    \"\"\"\n",
        "    Find the maximum value of a specified column.\n",
        "    Raises an error if the column does not exist.\n",
        "    \"\"\"\n",
        "    if column not in df.columns:\n",
        "        raise ValueError(f\"Column '{column}' does not exist in DataFrame\")\n",
        "    return df[column].max()\n",
        "\n",
        "def filter_rows(df: pd.DataFrame, column: str, value: str) -> pd.DataFrame:\n",
        "    \"\"\"\n",
        "    Return rows where the specified column equals the given value.\n",
        "    All parameters are required (no None allowed).\n",
        "    \"\"\"\n",
        "    if column not in df.columns:\n",
        "        raise ValueError(f\"Column '{column}' does not exist in DataFrame\")\n",
        "    return df[df[column] == value]\n",
        "\n",
        "if __name__ == \"__main__\":\n",
        "    # URL of the CSV\n",
        "    url = \"https://raw.githubusercontent.com/mwaskom/seaborn-data/master/iris.csv\"\n",
        "\n",
        "    # Load CSV\n",
        "    df = load_csv(url)\n",
        "\n",
        "    # Compute statistics\n",
        "    print(\"Average sepal length:\", calculate_average(df, 'sepal_length'))\n",
        "    print(\"Max petal width:\", find_max(df, 'petal_width'))\n",
        "\n",
        "    # Filter rows\n",
        "    print(\"Rows where species is setosa:\")\n",
        "    print(filter_rows(df, 'species', 'setosa').head())\n"
      ]
    },
    {
      "cell_type": "code",
      "source": [],
      "metadata": {
        "id": "HbLw9CsdlCts"
      },
      "execution_count": null,
      "outputs": []
    }
  ]
}